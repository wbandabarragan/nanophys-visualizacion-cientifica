{
 "cells": [
  {
   "cell_type": "markdown",
   "id": "ed586a0b",
   "metadata": {},
   "source": [
    "## The photoelectric effect\n",
    "\n",
    "Consider an experiment of the photoelectric effect. The experiment consists of setting up an electric circuit embedding plates of different metals. We illuminate the first plate with a beam of photons of certain wavelength, $\\lambda$, and as the photons interact with the metal plate, electrons are ejected from it. The electrons then reach the second plate and an electric current emerges. To prevent these electrons from reaching the second plate, we can increase the voltage until the electric current becomes zero in the circuit. The voltage value at which this happens is called \"stopping potential\", $V_0$, which is defined as the potential needed to stop the photo-electrons with the largest kinetic energy (so $K_{max}=e\\,V_0$) at a specific wavelength $\\lambda$.\n",
    "\n",
    "Report all the answers in SI units, and recall that the Planck constant is $h=6.626\\times 10^{-34}\\,\\rm J\\,s$, the speed of light is $c=3\\times 10^{8}\\,\\rm m\\,s^{-1}$, the electron mass is $m_e=9.11\\times 10^{-31}\\,\\rm kg$, and the electron charge in $e=1.6\\times 10^{-19}\\,\\rm c$.\n",
    "\n",
    "### **1. Data I/O:**\n",
    "\n",
    "Using a Python notebook, open and read the CSV data file containing the data from the experiment, and make two high-quality labeled scattered plots, one for each metal, with the maximum kinetic energy ($K_{\\rm max}$) in the Y-axis and frequency on the X-axis. Note: use markers to display the experimental data."
   ]
  },
  {
   "cell_type": "code",
   "execution_count": 5,
   "id": "49a052f7",
   "metadata": {},
   "outputs": [],
   "source": [
    "import numpy as np\n",
    "\n",
    "import matplotlib.pyplot as plt\n",
    "\n",
    "import pandas as pd"
   ]
  },
  {
   "cell_type": "code",
   "execution_count": 6,
   "id": "afdbf9f9",
   "metadata": {},
   "outputs": [],
   "source": [
    "# Open the CSV file:\n",
    "\n",
    "data_pe = pd.read_csv(\"data-photoelectric.csv\")"
   ]
  },
  {
   "cell_type": "code",
   "execution_count": 7,
   "id": "5dd370ae",
   "metadata": {},
   "outputs": [
    {
     "name": "stdout",
     "output_type": "stream",
     "text": [
      "    Trial      Metal  Voltage (V)  Current (pA)  Frequency (Hz)  \\\n",
      "0       1     Sodium        0.405          0.00    6.666700e+14   \n",
      "1       2     Sodium        1.801          0.00    1.000000e+15   \n",
      "2       3     Sodium        1.198         -0.01    8.571400e+14   \n",
      "3       4     Sodium        1.499          0.00    9.230800e+14   \n",
      "4       5     Sodium        0.960          0.00    8.000000e+14   \n",
      "5       6     Sodium        0.570          0.00    7.058800e+14   \n",
      "6       7     Sodium        0.762          0.00    7.500000e+14   \n",
      "7       8     Sodium        2.241         -0.02    1.090910e+15   \n",
      "8       9     Sodium        2.618          0.00    1.200000e+15   \n",
      "9      10     Sodium        3.200          0.02    1.333330e+15   \n",
      "10     11  Aluminium        2.138         -0.01    1.500000e+15   \n",
      "11     12  Aluminium        0.891          0.02    1.200000e+15   \n",
      "12     13  Aluminium        1.449          0.00    1.333330e+15   \n",
      "13     14  Aluminium        1.900          0.00    1.428570e+15   \n",
      "14     15  Aluminium        1.570         -0.02    1.363640e+15   \n",
      "15     16  Aluminium        1.331          0.02    1.304350e+15   \n",
      "16     17  Aluminium        1.998          0.01    1.463410e+15   \n",
      "17     18  Aluminium        1.750          0.00    1.395350e+15   \n",
      "18     19  Aluminium        1.261         -0.02    1.287550e+15   \n",
      "19     20  Aluminium        1.795         -0.02    1.408450e+15   \n",
      "\n",
      "    Wavelength (nm)  Unnamed: 6  \n",
      "0             450.0         NaN  \n",
      "1             300.0         NaN  \n",
      "2             350.0         NaN  \n",
      "3             325.0         NaN  \n",
      "4             375.0         NaN  \n",
      "5             425.0         NaN  \n",
      "6             400.0         NaN  \n",
      "7             275.0         NaN  \n",
      "8             250.0         NaN  \n",
      "9             225.0         NaN  \n",
      "10            200.0         NaN  \n",
      "11            250.0         NaN  \n",
      "12            225.0         NaN  \n",
      "13            210.0         NaN  \n",
      "14            220.0         NaN  \n",
      "15            230.0         NaN  \n",
      "16            205.0         NaN  \n",
      "17            215.0         NaN  \n",
      "18            233.0         NaN  \n",
      "19            213.0         NaN  \n"
     ]
    }
   ],
   "source": [
    "print(data_pe)"
   ]
  },
  {
   "cell_type": "code",
   "execution_count": 14,
   "id": "aba6c9fb",
   "metadata": {},
   "outputs": [],
   "source": [
    "data_sodium = data_pe.loc[data_pe[\"Metal\"] == \"Sodium\"]\n",
    "\n",
    "#Frequencies\n",
    "freq_Na = np.array(data_sodium[\"Frequency (Hz)\"])\n",
    "\n",
    "#Voltages\n",
    "volt_Na = np.array(data_pe.loc[data_pe[\"Metal\"]=='Sodium'][\"Voltage (V)\"])"
   ]
  },
  {
   "cell_type": "code",
   "execution_count": 16,
   "id": "73fc2e2f",
   "metadata": {},
   "outputs": [],
   "source": [
    "# electron charge\n",
    "electron_charge = 1.6e-19   #[C] \n",
    "\n",
    "\n",
    "# K_max\n",
    "evolt_Na = electron_charge*volt_Na\n"
   ]
  },
  {
   "cell_type": "code",
   "execution_count": 17,
   "id": "711f2e7d",
   "metadata": {},
   "outputs": [
    {
     "data": {
      "image/png": "[encoded data removed]",
      "text/plain": [
       "<Figure size 800x600 with 1 Axes>"
      ]
     },
     "metadata": {},
     "output_type": "display_data"
    }
   ],
   "source": [
    "fig, ax = plt.subplots(figsize = (8,6))\n",
    "\n",
    "ax.plot(freq_Na, evolt_Na, marker = \"+\", linestyle = \" \")\n",
    "\n",
    "ax.set_xlabel(r'Frequency [Hz]', fontsize=20)\n",
    "ax.set_ylabel(r'Kmax [J]', fontsize=20)\n",
    "plt.xticks(size=16)\n",
    "plt.yticks(size=16)\n",
    "\n",
    "plt.show()\n",
    "\n"
   ]
  },
  {
   "cell_type": "code",
   "execution_count": null,
   "id": "1e245c15",
   "metadata": {},
   "outputs": [],
   "source": []
  }
 ],
 "metadata": {
  "kernelspec": {
   "display_name": "Python 3",
   "language": "python",
   "name": "python3"
  },
  "language_info": {
   "codemirror_mode": {
    "name": "ipython",
    "version": 3
   },
   "file_extension": ".py",
   "mimetype": "text/x-python",
   "name": "python",
   "nbconvert_exporter": "python",
   "pygments_lexer": "ipython3",
   "version": "3.7.10"
  }
 },
 "nbformat": 4,
 "nbformat_minor": 5
}
